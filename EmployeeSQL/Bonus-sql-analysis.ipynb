{
 "cells": [
  {
   "cell_type": "code",
   "execution_count": null,
   "id": "17fc0950",
   "metadata": {},
   "outputs": [],
   "source": [
    "import pandas as pd\n",
    "from sqlalchemy import create_engine\n"
   ]
  },
  {
   "cell_type": "code",
   "execution_count": null,
   "id": "5676ac9c",
   "metadata": {},
   "outputs": [],
   "source": [
    "db_path = \"../salaries\""
   ]
  },
  {
   "cell_type": "code",
   "execution_count": null,
   "id": "4fcca9f8",
   "metadata": {},
   "outputs": [],
   "source": [
    "engine = create_engine(f'sqlite:///{db_path}')\n"
   ]
  },
  {
   "cell_type": "markdown",
   "id": "fc19dd33",
   "metadata": {},
   "source": [
    "data = pd.read_sql('select * from salaries', conn)"
   ]
  },
  {
   "cell_type": "code",
   "execution_count": null,
   "id": "68391a7b",
   "metadata": {},
   "outputs": [],
   "source": [
    "data = engine.execute('select * from salaries')\n",
    "data"
   ]
  },
  {
   "cell_type": "code",
   "execution_count": null,
   "id": "1d0c21af",
   "metadata": {},
   "outputs": [],
   "source": [
    "data2 = engine.execute('select * from employees')\n",
    "data2"
   ]
  },
  {
   "cell_type": "code",
   "execution_count": null,
   "id": "e5521a98",
   "metadata": {},
   "outputs": [],
   "source": [
    "emp_sal_df = data"
   ]
  },
  {
   "cell_type": "code",
   "execution_count": null,
   "id": "6e734cee",
   "metadata": {},
   "outputs": [],
   "source": []
  },
  {
   "cell_type": "code",
   "execution_count": null,
   "id": "81a23793",
   "metadata": {},
   "outputs": [],
   "source": []
  }
 ],
 "metadata": {
  "kernelspec": {
   "display_name": "Python 3 (ipykernel)",
   "language": "python",
   "name": "python3"
  },
  "language_info": {
   "codemirror_mode": {
    "name": "ipython",
    "version": 3
   },
   "file_extension": ".py",
   "mimetype": "text/x-python",
   "name": "python",
   "nbconvert_exporter": "python",
   "pygments_lexer": "ipython3",
   "version": "3.9.12"
  }
 },
 "nbformat": 4,
 "nbformat_minor": 5
}
